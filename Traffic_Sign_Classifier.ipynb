{
 "cells": [
  {
   "cell_type": "markdown",
   "metadata": {},
   "source": [
    "# Self-Driving Car Engineer Nanodegree\n",
    "\n",
    "## Deep Learning\n",
    "\n",
    "## Project: Build a Traffic Sign Recognition Classifier\n",
    "\n"
   ]
  },
  {
   "cell_type": "markdown",
   "metadata": {},
   "source": [
    "---\n",
    "## Step 0: Load The Data"
   ]
  },
  {
   "cell_type": "markdown",
   "metadata": {},
   "source": [
    "---\n",
    " Dataset Summary & Exploration\n",
    "\n",
    "The pickled data is a dictionary with 4 key/value pairs:\n",
    "\n",
    "- `'features'` is a 4D array containing raw pixel data of the traffic sign images, (num examples, width, height, channels).\n",
    "- `'labels'` is a 1D array containing the label/class id of the traffic sign. The file `signnames.csv` contains id -> name mappings for each id.\n",
    "- `'sizes'` is a list containing tuples, (width, height) representing the original width and height the image.\n",
    "- `'coords'` is a list containing tuples, (x1, y1, x2, y2) representing coordinates of a bounding box around the sign in the image. **THESE COORDINATES ASSUME THE ORIGINAL IMAGE. THE PICKLED DATA CONTAINS RESIZED VERSIONS (32 by 32) OF THESE IMAGES**\n",
    "\n"
   ]
  },
  {
   "cell_type": "code",
   "execution_count": 1,
   "metadata": {
    "collapsed": true
   },
   "outputs": [],
   "source": [
    "# Load pickled data\n",
    "import pickle\n",
    "import os\n",
    "import tensorflow as tf\n",
    "import pandas as pd\n",
    "import numpy as np"
   ]
  },
  {
   "cell_type": "code",
   "execution_count": 2,
   "metadata": {
    "collapsed": true
   },
   "outputs": [],
   "source": [
    "\n",
    "EPOCHS=20#40#20#10\n",
    "BATCH_SIZE=1280#500#128"
   ]
  },
  {
   "cell_type": "code",
   "execution_count": 3,
   "metadata": {},
   "outputs": [],
   "source": [
    "\n",
    "\n",
    "training_file = 'traffic-signs-data/train.p'\n",
    "validation_file='traffic-signs-data/valid.p'\n",
    "testing_file = 'traffic-signs-data/test.p'\n",
    "\n",
    "with open(training_file, mode='rb') as f:\n",
    "    train = pickle.load(f)\n",
    "with open(validation_file, mode='rb') as f:\n",
    "    valid = pickle.load(f)\n",
    "with open(testing_file, mode='rb') as f:\n",
    "    test = pickle.load(f)\n",
    "    \n",
    "X_train, y_train = train['features'], train['labels']\n",
    "X_valid, y_valid = valid['features'], valid['labels']\n",
    "X_test, y_test = test['features'], test['labels']"
   ]
  },
  {
   "cell_type": "code",
   "execution_count": 4,
   "metadata": {},
   "outputs": [
    {
     "data": {
      "image/png": "[encoded data removed]",
      "text/plain": [
       "<matplotlib.figure.Figure at 0x1fba3149710>"
      ]
     },
     "metadata": {},
     "output_type": "display_data"
    }
   ],
   "source": [
    "from matplotlib import pyplot as plt\n",
    "plt.figure(figsize=(1,1))\n",
    "plt.imshow((np.subtract(X_train[80],128)))\n",
    "plt.show()"
   ]
  },
  {
   "cell_type": "markdown",
   "metadata": {},
   "source": [
    "### Basic Summary of the Data Set "
   ]
  },
  {
   "cell_type": "code",
   "execution_count": 5,
   "metadata": {},
   "outputs": [
    {
     "name": "stdout",
     "output_type": "stream",
     "text": [
      "Number of training examples = 34799\n",
      "Number of testing examples = 12630\n",
      "Image data shape = (32, 32, 3)\n",
      "Number of classes = 43\n"
     ]
    }
   ],
   "source": [
    "n_train = len(y_train)\n",
    "\n",
    "n_validation = len(y_valid)\n",
    "\n",
    "n_test = len(y_test)\n",
    "\n",
    "image_shape = X_train[0].shape\n",
    "\n",
    "\n",
    "n_classes = len(set(y_train))\n",
    "print(\"Number of training examples =\", n_train)\n",
    "print(\"Number of testing examples =\", n_test)\n",
    "print(\"Image data shape =\", image_shape)\n",
    "print(\"Number of classes =\", n_classes)"
   ]
  },
  {
   "cell_type": "code",
   "execution_count": 6,
   "metadata": {},
   "outputs": [],
   "source": [
    "def Convert_array_to_float(arr):\n",
    "    arr=np.float32(arr)\n",
    "    return arr\n",
    "def Convert_images(X_train, X_valid, X_test):\n",
    "    X_train=Convert_array_to_float(X_train)\n",
    "    X_valid=Convert_array_to_float(X_valid)\n",
    "    X_test=Convert_array_to_float(X_test)\n",
    "    return X_train, X_valid, X_test\n"
   ]
  },
  {
   "cell_type": "code",
   "execution_count": 7,
   "metadata": {},
   "outputs": [],
   "source": [
    "X_train, X_valid, X_test=Convert_images(X_train, X_valid, X_test)"
   ]
  },
  {
   "cell_type": "markdown",
   "metadata": {},
   "source": [
    "### Include an exploratory visualization of the dataset"
   ]
  },
  {
   "cell_type": "markdown",
   "metadata": {},
   "source": [
    "----\n",
    "\n",
    "## Step 2: Design and Test a Model Architecture\n",
    "\n",
    "\n"
   ]
  },
  {
   "cell_type": "code",
   "execution_count": 8,
   "metadata": {
    "collapsed": true
   },
   "outputs": [],
   "source": [
    "from sklearn.utils import shuffle\n",
    "X_train,y_train=shuffle(X_train,y_train)"
   ]
  },
  {
   "cell_type": "code",
   "execution_count": 9,
   "metadata": {},
   "outputs": [
    {
     "name": "stdout",
     "output_type": "stream",
     "text": [
      "2\n"
     ]
    },
    {
     "data": {
      "image/png": "[encoded data removed]",
      "text/plain": [
       "<matplotlib.figure.Figure at 0x1fba3894710>"
      ]
     },
     "metadata": {},
     "output_type": "display_data"
    }
   ],
   "source": [
    "### Data exploration v\n",
    "import matplotlib.pyplot as plt\n",
    "import random \n",
    "# Visualizations will be shown in the notebook.\n",
    "%matplotlib inline\n",
    "index=random.randint(0,len(X_train))\n",
    "image=X_train[index].squeeze()\n",
    "plt.figure(figsize=(1,1))\n",
    "plt.imshow(image)\n",
    "print(y_train[index])\n",
    "#print(X_train[0])"
   ]
  },
  {
   "cell_type": "code",
   "execution_count": 10,
   "metadata": {},
   "outputs": [],
   "source": [
    "def Add_Image_to_Array(imgarray,labels,image, image_class):\n",
    "    image2=np.expand_dims(image,axis=0) #add a 0-indexed dimension thus it is now image[0] gives actual image\n",
    "    #print(image2.shape)\n",
    "    #print(imgarray.shape)\n",
    "    imgarray=np.vstack((imgarray,image2)) #vertically stack image to image array\n",
    "    labels=np.append(labels,image_class) #add label to existing vector of labels\n",
    "    return imgarray, labels\n",
    "def Balanced_Resampling(X,y, n_classes):\n",
    "    ideal_ratio=1.0/n_classes\n",
    "    act_ratio=np.histogram(y, len(set(y)))[0]/len(X) #gets the actual proportions of the data\n",
    "    counts=np.histogram(y, len(set(y)))\n",
    "    percent_of_train_data=(counts[0]/len(X))\n",
    "    min_count=sorted(percent_of_train_data)[0]\n",
    "    #flag_alteration=[0,1,2,3,4] #0: do nothing, 1 is noisify, 2 is translate, 3 is rotate, 4 is blur\n",
    "    if min_count< ideal_ratio:\n",
    "        index_under_rep=[iter for iter, j in enumerate(percent_of_train_data) if j<ideal_ratio] #get all classes that are under-represented\n",
    "        for index in index_under_rep: # each class\n",
    "            print(index)\n",
    "            #determine how many samples needed of this instance\n",
    "            instances_of_class=[iter for iter, el in enumerate(y) if el == index] #get all the indices \n",
    "                                                                            #of the instance in the training set\n",
    "            num_samples_to_add=int(np.ceil((ideal_ratio-act_ratio[index])*len(X))) #find necessary amount of additional class examples needed\n",
    "            print(num_samples_to_add)\n",
    "            for i in range(num_samples_to_add):\n",
    "                #take a random sample from the class and noisify, blur, darken or lighten \n",
    "                alter=random.randint(0,4) #random number from 0-4\n",
    "                \n",
    "                random_index=instances_of_class[random.randint(0, len(instances_of_class)-1)]\n",
    "                image_to_alter= X[random_index]\n",
    "                #print(\"Random Selection\")\n",
    "                #print(image_to_alter.shape)\n",
    "                if alter == 1:\n",
    "                    altered_image=Noisify_Image(image_to_alter)\n",
    "                elif alter==2:\n",
    "                    altered_image=Darken_Image(image_to_alter) #Translate_Image(image_to_alter)\n",
    "                elif alter==3:\n",
    "                    #angle=np.random.randn()*360\n",
    "                    #print(image_to_alter)\n",
    "                    #print(angle)\n",
    "                    altered_image=Lighten_Image(image_to_alter) #Rotate_Image(image_to_alter,angle)\n",
    "                elif alter==4:\n",
    "                    altered_image=Blur_Image(image_to_alter)\n",
    "                else:\n",
    "                    altered_image=X[random_index]\n",
    "                    y_train=np.append(y,index)\n",
    "                    \n",
    "                X,y=Add_Image_to_Array(X, y, altered_image,index) #add distorted image to existing training data\n",
    "    return X, y\n",
    "    \n",
    "            \n",
    "                \n",
    "                \n",
    "   "
   ]
  },
  {
   "cell_type": "code",
   "execution_count": 11,
   "metadata": {},
   "outputs": [],
   "source": [
    "#applying distortions for fake image data, ranging from blurring, cropping, rotating, noisifying, etc.\n",
    "import cv2\n",
    "\n",
    "def Noisify_Image(X):\n",
    "    #a,b are start and stop vaues for random number generator\n",
    "    X=X+[np.random.randn()*(np.max(X)-np.min(X))*0.01]\n",
    "    #print(\"Noisify\")\n",
    "    return X\n",
    "def Darken_Image(X):\n",
    "    X=X-np.random.rand()*(np.max(X)/5)\n",
    "    return X\n",
    "def Lighten_Image(X):\n",
    "    X=X-np.random.rand()*(np.max(X)/5)\n",
    "    return X\n",
    "    \n",
    "def Rotate_Image(image,angle):\n",
    "    num_rows, num_cols=image.shape[:2]\n",
    "    image_center=(num_cols/2, num_rows/2)\n",
    "    rot_mat=cv2.getRotationMatrix2D(image_center, angle,1)\n",
    "    result=cv2.warpAffine(image, rot_mat, (image.shape[1], image.shape[0]), flags=cv2.INTER_LINEAR)\n",
    "    #print(\"Rotate\")\n",
    "    return result\n",
    "def Translate_Image(image):\n",
    "    num_rows, num_cols=image.shape[:2]\n",
    "    #transltn_mtx=np.float32([1, 0, np.random.rand(1,1)*32], [0,1,np.random.rand(1,1)])#np.array([np.random.randn(1,3), np.random.randn(1,3)])\n",
    "    #translate_image=np.float32(np.random.randn(1,3)[0], np.random.randn(1,3)[0])\n",
    "    x_rand=(np.random.rand()*(num_cols/10) - (num_cols/10))\n",
    "    y_rand=(np.random.rand()*(num_rows/10) - (num_rows/10))\n",
    "    transltn_mtx=np.float32([[1,0, x_rand], [0,1,y_rand]])\n",
    "    image_translated=cv2.warpAffine(image, transltn_mtx, (num_cols, num_rows))\n",
    "    #print(\"Translate\")\n",
    "    return image_translated\n",
    "def Blur_Image(image):\n",
    "    #now blur image a little\n",
    "    kernel = np.ones(random.randint(1,4), np.float32)\n",
    "    image_blurred=cv2.filter2D(image,-1,kernel)\n",
    "    #print(\"Blur\")\n",
    "    return image_blurred"
   ]
  },
  {
   "cell_type": "code",
   "execution_count": null,
   "metadata": {},
   "outputs": [],
   "source": [
    "#resample data\n",
    "X_train,y_train=Balanced_Resampling(X_train,y_train,n_classes)"
   ]
  },
  {
   "cell_type": "code",
   "execution_count": 12,
   "metadata": {},
   "outputs": [],
   "source": [
    "#histogram shows imbalance in data set, in order to get better accuracy\n",
    "#one approach would be to balance the training data by subsampling with noise, rotation of various degrees, cropping\n",
    "#added to various images until all training classes are approximately balanced, i.e. uniform\n",
    "\n",
    "counts=np.histogram(y_train,len(set(y_train))) #get the counts of each class in the training set\n",
    "percent_of_train_data=(counts[0]/len(X_train)) #get the percentage of each class represented in the training set\n",
    "\n",
    "ideal_ratio=1/n_classes #get the ideal percentage assuming uniform distribution\n",
    "\n",
    "\n",
    "min_count=sorted(percent_of_train_data)[0] #find the least number of instances of a class\n",
    "\n",
    "max_count=sorted(percent_of_train_data, reverse=True)[0] #find the greatest number of instances of a class\n",
    "\n",
    "index_under_rep=[iter for iter,j in enumerate(percent_of_train_data) if j<ideal_ratio] #find all classes that are under-represented\n",
    "index_over_rep=[iter for iter,j in enumerate(percent_of_train_data) if j>ideal_ratio] #find all classes that are over-represented\n",
    "\n",
    "\n"
   ]
  },
  {
   "cell_type": "markdown",
   "metadata": {},
   "source": [
    "### Pre-process the Data Set (normalization, grayscale, etc.)"
   ]
  },
  {
   "cell_type": "code",
   "execution_count": 16,
   "metadata": {
    "collapsed": true
   },
   "outputs": [],
   "source": [
    "\n",
    "def Resize_Image_And_Pad(image, dim_size):\n",
    "    image_decoded=tf.image.decode_image(image,channels=3)\n",
    "    image_resized=tf.resize_images(image, [dim_size-4,dim_size-4])\n",
    "    image_padded=np.pad(image_resized, ((0,0),(2,2),(2,2),(0,0)),'constant') \n",
    "    return image_padded\n",
    "    \n",
    "    "
   ]
  },
  {
   "cell_type": "code",
   "execution_count": 13,
   "metadata": {
    "collapsed": true
   },
   "outputs": [],
   "source": [
    "### Preprocess the data here. \n",
    "def preprocess_example(example):\n",
    "    example=np.divide(np.subtract(example,128, dtype=float),128)\n",
    "    return example\n",
    "\n",
    "def Convert_to_Grayscale(example):\n",
    "    example=cv2.cvtColor(example, cv2.COLOR_RGB2GRAY)\n",
    "    return example\n",
    "\n",
    "    \n",
    "\n"
   ]
  },
  {
   "cell_type": "code",
   "execution_count": 14,
   "metadata": {},
   "outputs": [],
   "source": [
    "def Normalize_DataSet(X_train, X_valid, X_test):\n",
    "    for iter, image in enumerate(X_train):\n",
    "        X_train[iter]=preprocess_example(X_train[iter])\n",
    "    for iter, image in enumerate(X_valid):\n",
    "        X_valid[iter]=preprocess_example(X_valid[iter])\n",
    "    for iter, image in enumerate(X_test):\n",
    "        X_test[iter]=preprocess_example(X_test[iter])\n",
    "    return X_train, X_test, X_valid\n",
    "X_train, X_test, X_valid=Normalize_DataSet(X_train, X_valid, X_test)"
   ]
  },
  {
   "cell_type": "code",
   "execution_count": null,
   "metadata": {},
   "outputs": [],
   "source": [
    "\n",
    "for iter, image in enumerate(X_train):\n",
    "    if iter==0:\n",
    "        X_train_gray=Convert_to_Grayscale(X_train[iter])\n",
    "    else:\n",
    "        X_train_gray=np.vstack(X_train_gray, Convert_to_Grayscale(X_train[iter]))\n"
   ]
  },
  {
   "cell_type": "code",
   "execution_count": 17,
   "metadata": {
    "collapsed": true
   },
   "outputs": [],
   "source": [
    "#Set up Input Variables\n",
    "def set_up_variables(dim_size, n_classes):\n",
    "    x=tf.placeholder(tf.float32, (None, dim_size, dim_size,3))\n",
    "    y=tf.placeholder(tf.int32, (None))\n",
    "    one_hot_y=tf.one_hot(y,n_classes)\n",
    "    return x,y, one_hot_y\n",
    "    "
   ]
  },
  {
   "cell_type": "markdown",
   "metadata": {},
   "source": [
    "### Model Architecture"
   ]
  },
  {
   "cell_type": "code",
   "execution_count": 18,
   "metadata": {},
   "outputs": [],
   "source": [
    "### Set up model architecture\n",
    "\n",
    "from tensorflow.contrib.layers import flatten\n",
    "\n",
    "def calculate_dim(W,H, D, F, P, S):\n",
    "    print(W)\n",
    "    print(H)\n",
    "    print(D)\n",
    "    print(F)\n",
    "    print(P)\n",
    "    print(S)\n",
    "    W_out=((W-F+2*P)/S)+1\n",
    "    H_out=((H-F+2*P)/S) +1\n",
    "    D_out=D\n",
    "    volume=H_out*D_out*W_out\n",
    "    return W_out, H_out, D_out, volume\n",
    "\n",
    "\n",
    "def compute_kern_size(W,H,D):\n",
    "    return np.ceil(W*0.15)\n",
    "\n",
    "\n",
    "\n",
    "def ensure_min_kernel(kern_size):\n",
    "    if kern_size <2:\n",
    "        kern_size=2 #make sure min_kern size is 2!\n",
    "    return kern_size\n",
    "\n",
    "def convolve_output_and_activate(input, Weights, bias,keep_prob, num_strides, padding_style):\n",
    "    output=tf.nn.conv2d(input, Weights, strides=num_strides, padding=padding_style)+bias\n",
    "    output=tf.nn.relu(output)\n",
    "    output=tf.nn.dropout(output, keep_prob)\n",
    "    return output\n",
    "\n",
    "def compute_activation(input, Weights, bias,keep_prob):\n",
    "    output=tf.matmul(input,Weights)+bias\n",
    "    activation_output=tf.nn.relu(output)\n",
    "    activation_output=tf.nn.dropout(activation_output, keep_prob)\n",
    "    return activation_output\n",
    "    \n",
    "#compute_kern_output_depth=lambda(W,H,D, kern_size): return W*H*D*kern_size\n",
    "\n",
    "#First Convolutional layer:\n",
    "def LeNet(x, keep_prob):\n",
    "    #Distribution parameters for weight initialization\n",
    "    mu=0\n",
    "    sigma=0.1\n",
    "    \n",
    "    #define 1st layer filter\n",
    "    x_dim=x.get_shape().as_list()[1:]\n",
    "    \n",
    "    kern_size=13#9 #int(x_dim[0]) #3\n",
    "    kern_size_list=[1,kern_size, kern_size, x_dim[2]]\n",
    "    \n",
    "    num_chan=x_dim[2] #x_dim[2]#3; depth of image (i.e. RGB or grayscale?)\n",
    "    num_filt=10 #number of filters to use to convolve over image\n",
    "    pad_type='VALID'\n",
    "    \n",
    "    strides_list=[1,1,1,1]\n",
    "    conv_W1=tf.Variable(tf.truncated_normal(shape=(kern_size,kern_size,num_chan,num_filt), mean=mu, stddev=sigma))\n",
    "    \n",
    "    conv_b1=tf.Variable(tf.zeros(num_filt))\n",
    "    conv1=convolve_output_and_activate(x, conv_W1, conv_b1, keep_prob, strides_list, pad_type)\n",
    "    \n",
    "    #Pooling\n",
    "        \n",
    "    conv1=tf.nn.max_pool(conv1, ksize=[1,2,2,1], strides=[1,1,1,1], padding=pad_type)\n",
    "    x_dim=conv1.get_shape().as_list()[1:]\n",
    "    \n",
    "    #2nd convolutional layer\n",
    "    \n",
    "    kern_size=7\n",
    "    kern_depth=int(x_dim[2])\n",
    "    kern_size_list=[1, kern_size, kern_size, x_dim[2]]\n",
    "    num_filt=24\n",
    "    \n",
    "    conv_W2=tf.Variable(tf.truncated_normal(shape=(kern_size,kern_size,kern_depth,num_filt), mean=mu, stddev=sigma))\n",
    "    conv_b2=tf.Variable(tf.zeros(num_filt))\n",
    "    \n",
    "    conv2=convolve_output_and_activate(conv1, conv_W2, conv_b2, keep_prob,strides_list, pad_type)\n",
    "    conv2=tf.nn.max_pool(conv2, ksize=[1,4,4,1], strides=[1,2,2,1], padding=pad_type)\n",
    "    \n",
    "    \n",
    "    #flatten into fully connected layer\n",
    "    \n",
    "    flattened_layer0=flatten(conv2) #layer is now size of vol\n",
    "    x_dim=flattened_layer0.get_shape().as_list()[1:]\n",
    "    \n",
    "    num_output_neurons=120\n",
    "    flat_layer_W0=tf.Variable(tf.truncated_normal(shape=(int(x_dim[0]), num_output_neurons), mean=mu, stddev=sigma))\n",
    "    flat_layer_b0=tf.Variable(tf.zeros(num_output_neurons))\n",
    "    \n",
    "    flat_layer_0_output=compute_activation(flattened_layer0, flat_layer_W0, flat_layer_b0, keep_prob)\n",
    "    \n",
    "    \n",
    "    #fully connected layer 1\n",
    "    x_dim=flat_layer_0_output.get_shape().as_list()[1:]\n",
    "    \n",
    "    num_output_neurons=84\n",
    "    flat_layer_W1=tf.Variable(tf.truncated_normal(shape=(int(x_dim[0]), num_output_neurons), mean=mu, stddev=sigma))\n",
    "    flat_layer_b1=tf.Variable(tf.zeros(num_output_neurons))\n",
    "    \n",
    "    \n",
    "    flat_layer_1_output=compute_activation(flat_layer_0_output, flat_layer_W1, flat_layer_b1, keep_prob)\n",
    "    \n",
    "    #fully connected layer 2\n",
    "    x_dim=flat_layer_1_output.get_shape().as_list()[1:]\n",
    "    \n",
    "    flat_layer_W2=tf.Variable(tf.truncated_normal(shape=(x_dim[0], n_classes), mean=mu, stddev=sigma))\n",
    "    flat_layer_b2=tf.Variable(tf.zeros(n_classes))\n",
    "    \n",
    "    \n",
    "    logits=compute_activation(flat_layer_1_output, flat_layer_W2, flat_layer_b2, keep_prob)#tf.nn.relu(final_output)\n",
    "    print(logits.get_shape().as_list())\n",
    "    return logits\n",
    "    \n"
   ]
  },
  {
   "cell_type": "markdown",
   "metadata": {},
   "source": [
    "### Train, Validate and Test the Model"
   ]
  },
  {
   "cell_type": "code",
   "execution_count": 19,
   "metadata": {},
   "outputs": [],
   "source": [
    "\n",
    "dim_size=32\n",
    "num_training_examples=len(X_train)\n",
    "x,y,one_hot_y=set_up_variables(dim_size, n_classes)\n",
    "learnrate=0.001"
   ]
  },
  {
   "cell_type": "code",
   "execution_count": 20,
   "metadata": {
    "scrolled": false
   },
   "outputs": [
    {
     "name": "stdout",
     "output_type": "stream",
     "text": [
      "[None, 43]\n",
      "Tensor(\"one_hot:0\", dtype=float32)\n",
      "(?, 43)\n"
     ]
    }
   ],
   "source": [
    "keep_prob=tf.placeholder(tf.float32)\n",
    "logits=LeNet(x,keep_prob) #get the model estimation\n",
    "print(one_hot_y)\n",
    "print(logits.get_shape())\n",
    "cross_entropy=tf.nn.softmax_cross_entropy_with_logits(labels=one_hot_y,logits=logits) #get difference between ground truth and the logits\n",
    "loss_function=tf.reduce_mean(cross_entropy)\n",
    "optimizer=tf.train.AdamOptimizer(learning_rate=learnrate)\n",
    "training_operation=optimizer.minimize(loss_function)\n"
   ]
  },
  {
   "cell_type": "code",
   "execution_count": 21,
   "metadata": {
    "collapsed": true
   },
   "outputs": [],
   "source": [
    "correct_pred=tf.equal(tf.argmax(logits,1), tf.argmax(one_hot_y,1))\n",
    "incorrect_pred=tf.not_equal(tf.argmax(logits,1), tf.argmax(one_hot_y,1))\n",
    "accuracy_pred=tf.reduce_mean(tf.cast(correct_pred, tf.float32))\n",
    "saver=tf.train.Saver()\n",
    "def evaluate_validation(X_data, Y_data):\n",
    "    num_examples=len(X_data)\n",
    "    total_accuracy=0\n",
    "    tf.sess=tf.get_default_session()\n",
    "    for offset in range(0, num_examples, BATCH_SIZE):\n",
    "        batch_x,batch_y=X_data[offset:offset+BATCH_SIZE], Y_data[offset:offset+BATCH_SIZE]\n",
    "        accuracy=sess.run(accuracy_pred, feed_dict={x:batch_x, y:batch_y, keep_prob:1.0})\n",
    "        total_accuracy+=(accuracy*len(batch_x))\n",
    "    return total_accuracy/num_examples\n",
    "def evaluate(X_data, Y_data):\n",
    "    num_examples=len(X_data)\n",
    "    total_accuracy=0\n",
    "    tf.sess=tf.get_default_session()\n",
    "    for offset in range(0, num_examples, BATCH_SIZE):\n",
    "        batch_x,batch_y=X_data[offset:offset+BATCH_SIZE], Y_data[offset:offset+BATCH_SIZE]\n",
    "        accuracy=sess.run(accuracy_pred, feed_dict={x:batch_x, y:batch_y})\n",
    "        total_accuracy+=(accuracy*len(batch_x))\n",
    "    return total_accuracy/num_examples\n",
    "def evaluate_train_accuracy(X_data, Y_data):\n",
    "    num_examples=len(X_data)\n",
    "    total_accuracy=0\n",
    "    tf.sess=tf.get_default_session()\n",
    "    accuracy=sess.run(accuracy_pred, feed_dict={x:X_data, y:Y_data})\n",
    "\n",
    "    #    total_accuracy+=(accuracy*len(batch_x))\n",
    "    return accuracy\n",
    "def evaluate_precision(X_data, Y_data):\n",
    "    num_examples=len(X_data) #number of predictions made\n",
    "    accuracy=sess.run(accuracy_pred, feed_dict={x:X_data, y:Y_data})\n",
    "    precision=accuracy/num_examples\n",
    "    return precision\n",
    "    \n"
   ]
  },
  {
   "cell_type": "code",
   "execution_count": 23,
   "metadata": {},
   "outputs": [
    {
     "name": "stdout",
     "output_type": "stream",
     "text": [
      "EPOCH 1.... \n",
      "\n",
      "Validation accuracy=0.304308\n",
      "EPOCH 2.... \n",
      "\n",
      "Validation accuracy=0.503628\n",
      "EPOCH 3.... \n",
      "\n",
      "Validation accuracy=0.611791\n",
      "EPOCH 4.... \n",
      "\n",
      "Validation accuracy=0.697506\n",
      "EPOCH 5.... \n",
      "\n",
      "Validation accuracy=0.739683\n",
      "EPOCH 6.... \n",
      "\n",
      "Validation accuracy=0.799773\n",
      "EPOCH 7.... \n",
      "\n",
      "Validation accuracy=0.822222\n",
      "EPOCH 8.... \n",
      "\n",
      "Validation accuracy=0.856236\n",
      "EPOCH 9.... \n",
      "\n",
      "Validation accuracy=0.864853\n",
      "EPOCH 10.... \n",
      "\n",
      "Validation accuracy=0.872336\n",
      "EPOCH 11.... \n",
      "\n",
      "Validation accuracy=0.888889\n",
      "EPOCH 12.... \n",
      "\n",
      "Validation accuracy=0.898186\n",
      "EPOCH 13.... \n",
      "\n",
      "Validation accuracy=0.899320\n",
      "EPOCH 14.... \n",
      "\n",
      "Validation accuracy=0.902948\n",
      "EPOCH 15.... \n",
      "\n",
      "Validation accuracy=0.906576\n",
      "EPOCH 16.... \n",
      "\n",
      "Validation accuracy=0.905442\n",
      "EPOCH 17.... \n",
      "\n",
      "Validation accuracy=0.910658\n",
      "EPOCH 18.... \n",
      "\n",
      "Validation accuracy=0.910658\n",
      "EPOCH 19.... \n",
      "\n",
      "Validation accuracy=0.914512\n",
      "EPOCH 20.... \n",
      "\n",
      "Validation accuracy=0.916327\n",
      "Saved Model\n"
     ]
    }
   ],
   "source": [
    "#Actually training the model\n",
    "with tf.Session() as sess:\n",
    "    sess.run(tf.global_variables_initializer()) #initialize the variables\n",
    "    num_examples=len(X_train)\n",
    "    for epoch in range(0, EPOCHS):\n",
    "        X_train,y_train=shuffle(X_train,y_train)\n",
    "        for offset in range(0, num_examples, BATCH_SIZE):\n",
    "            batch_x,batch_y=X_train[offset:offset+BATCH_SIZE], y_train[offset:offset+BATCH_SIZE]\n",
    "            \n",
    "            sess.run(training_operation, feed_dict={x:batch_x, y:batch_y,keep_prob:0.8}) #prev 0.8 kp gave 90% validation accuracy\n",
    "            \n",
    "        print(\"EPOCH {}.... \".format(epoch+1))\n",
    "        \n",
    "        print()\n",
    "        validation_accuracy=evaluate_validation(X_valid, y_valid)\n",
    "        print(\"Validation accuracy={:3f}\".format(validation_accuracy))        \n",
    "    try:\n",
    "        saver\n",
    "    except NameError:\n",
    "        saver=tf.train.Saver()\n",
    "    saver.save(sess,\"./Convnet\")\n",
    "    print(\"Saved Model\")\n",
    "    "
   ]
  },
  {
   "cell_type": "code",
   "execution_count": 35,
   "metadata": {},
   "outputs": [
    {
     "name": "stdout",
     "output_type": "stream",
     "text": [
      "INFO:tensorflow:Restoring parameters from ./Convnet\n",
      "Test Accuracy = 0.909343\n"
     ]
    }
   ],
   "source": [
    "with tf.Session() as sess:\n",
    "    saver.restore(sess,'./Convnet')\n",
    "    test_accuracy=evaluate_validation(X_test, y_test)\n",
    "    print(\"Test Accuracy = {:3f}\".format(test_accuracy))"
   ]
  }
 ],
 "metadata": {
  "anaconda-cloud": {},
  "kernelspec": {
   "display_name": "Python 3",
   "language": "python",
   "name": "python3"
  },
  "language_info": {
   "codemirror_mode": {
    "name": "ipython",
    "version": 3
   },
   "file_extension": ".py",
   "mimetype": "text/x-python",
   "name": "python",
   "nbconvert_exporter": "python",
   "pygments_lexer": "ipython3",
   "version": "3.5.2"
  },
  "widgets": {
   "state": {},
   "version": "1.1.2"
  }
 },
 "nbformat": 4,
 "nbformat_minor": 1
}
